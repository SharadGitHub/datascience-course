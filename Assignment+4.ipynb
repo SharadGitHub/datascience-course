{
 "cells": [
  {
   "cell_type": "markdown",
   "metadata": {},
   "source": [
    "---\n",
    "\n",
    "_You are currently looking at **version 1.1** of this notebook. To download notebooks and datafiles, as well as get help on Jupyter notebooks in the Coursera platform, visit the [Jupyter Notebook FAQ](https://www.coursera.org/learn/python-data-analysis/resources/0dhYG) course resource._\n",
    "\n",
    "---"
   ]
  },
  {
   "cell_type": "code",
   "execution_count": 20,
   "metadata": {
    "collapsed": true
   },
   "outputs": [],
   "source": [
    "import pandas as pd\n",
    "import numpy as np\n",
    "from scipy.stats import ttest_ind"
   ]
  },
  {
   "cell_type": "markdown",
   "metadata": {},
   "source": [
    "# Assignment 4 - Hypothesis Testing\n",
    "This assignment requires more individual learning than previous assignments - you are encouraged to check out the [pandas documentation](http://pandas.pydata.org/pandas-docs/stable/) to find functions or methods you might not have used yet, or ask questions on [Stack Overflow](http://stackoverflow.com/) and tag them as pandas and python related. And of course, the discussion forums are open for interaction with your peers and the course staff.\n",
    "\n",
    "Definitions:\n",
    "* A _quarter_ is a specific three month period, Q1 is January through March, Q2 is April through June, Q3 is July through September, Q4 is October through December.\n",
    "* A _recession_ is defined as starting with two consecutive quarters of GDP decline, and ending with two consecutive quarters of GDP growth.\n",
    "* A _recession bottom_ is the quarter within a recession which had the lowest GDP.\n",
    "* A _university town_ is a city which has a high percentage of university students compared to the total population of the city.\n",
    "\n",
    "**Hypothesis**: University towns have their mean housing prices less effected by recessions. Run a t-test to compare the ratio of the mean price of houses in university towns the quarter before the recession starts compared to the recession bottom. (`price_ratio=quarter_before_recession/recession_bottom`)\n",
    "\n",
    "The following data files are available for this assignment:\n",
    "* From the [Zillow research data site](http://www.zillow.com/research/data/) there is housing data for the United States. In particular the datafile for [all homes at a city level](http://files.zillowstatic.com/research/public/City/City_Zhvi_AllHomes.csv), ```City_Zhvi_AllHomes.csv```, has median home sale prices at a fine grained level.\n",
    "* From the Wikipedia page on college towns is a list of [university towns in the United States](https://en.wikipedia.org/wiki/List_of_college_towns#College_towns_in_the_United_States) which has been copy and pasted into the file ```university_towns.txt```.\n",
    "* From Bureau of Economic Analysis, US Department of Commerce, the [GDP over time](http://www.bea.gov/national/index.htm#gdp) of the United States in current dollars (use the chained value in 2009 dollars), in quarterly intervals, in the file ```gdplev.xls```. For this assignment, only look at GDP data from the first quarter of 2000 onward.\n",
    "\n",
    "Each function in this assignment below is worth 10%, with the exception of ```run_ttest()```, which is worth 50%."
   ]
  },
  {
   "cell_type": "code",
   "execution_count": 21,
   "metadata": {
    "collapsed": true
   },
   "outputs": [],
   "source": [
    "# Use this dictionary to map state names to two letter acronyms\n",
    "states = {'OH': 'Ohio', 'KY': 'Kentucky', 'AS': 'American Samoa', 'NV': 'Nevada', 'WY': 'Wyoming', 'NA': 'National', 'AL': 'Alabama', 'MD': 'Maryland', 'AK': 'Alaska', 'UT': 'Utah', 'OR': 'Oregon', 'MT': 'Montana', 'IL': 'Illinois', 'TN': 'Tennessee', 'DC': 'District of Columbia', 'VT': 'Vermont', 'ID': 'Idaho', 'AR': 'Arkansas', 'ME': 'Maine', 'WA': 'Washington', 'HI': 'Hawaii', 'WI': 'Wisconsin', 'MI': 'Michigan', 'IN': 'Indiana', 'NJ': 'New Jersey', 'AZ': 'Arizona', 'GU': 'Guam', 'MS': 'Mississippi', 'PR': 'Puerto Rico', 'NC': 'North Carolina', 'TX': 'Texas', 'SD': 'South Dakota', 'MP': 'Northern Mariana Islands', 'IA': 'Iowa', 'MO': 'Missouri', 'CT': 'Connecticut', 'WV': 'West Virginia', 'SC': 'South Carolina', 'LA': 'Louisiana', 'KS': 'Kansas', 'NY': 'New York', 'NE': 'Nebraska', 'OK': 'Oklahoma', 'FL': 'Florida', 'CA': 'California', 'CO': 'Colorado', 'PA': 'Pennsylvania', 'DE': 'Delaware', 'NM': 'New Mexico', 'RI': 'Rhode Island', 'MN': 'Minnesota', 'VI': 'Virgin Islands', 'NH': 'New Hampshire', 'MA': 'Massachusetts', 'GA': 'Georgia', 'ND': 'North Dakota', 'VA': 'Virginia'}\n"
   ]
  },
  {
   "cell_type": "code",
   "execution_count": 22,
   "metadata": {
    "collapsed": true,
    "umich_part_id": "021",
    "umich_partlist_id": "004"
   },
   "outputs": [],
   "source": [
    "def get_list_of_university_towns():\n",
    "    '''Returns a DataFrame of towns and the states they are in from the \n",
    "    university_towns.txt list. The format of the DataFrame should be:\n",
    "    DataFrame( [ [\"Michigan\", \"Ann Arbor\"], [\"Michigan\", \"Yipsilanti\"] ], \n",
    "    columns=[\"State\", \"RegionName\"]  )\n",
    "    \n",
    "    The following cleaning needs to be done:\n",
    "\n",
    "    1. For \"State\", removing characters from \"[\" to the end.\n",
    "    2. For \"RegionName\", when applicable, removing every character from \" (\" to the end.\n",
    "    3. Depending on how you read the data, you may need to remove newline character '\\n'. '''\n",
    "    \n",
    "    data = pd.read_csv('university_towns.txt',sep = '\\n' , header = None)\n",
    "    states = data[data[0].str.contains('edit')]\n",
    "    states = states[0].str.replace(r\"\\[.*\\]\",\"\").str.strip()\n",
    "    data.iloc[240] = \"Faribault, South Central College(Minnesota)\"\n",
    "    data.iloc[246] = \"North Mankato, South Central College (Minnesota)\"\n",
    "    data.iloc[200] = \"The Colleges of Worcester Consortium: (Massachusetts)\"\n",
    "    data.iloc[205] = \"The Five College Region of Western Massachusetts: (Massachusetts)\"\n",
    "    \n",
    "    data['RegionName'] = data[0].apply(lambda x: x.split(\n",
    "    '(')[0].strip() if x.count('(') > 0 else np.NaN)\n",
    "    \n",
    "    data['State'] = data[0].apply(lambda x: x.split('[')[0].strip(\n",
    "    ) if x.count('edit') > 0 else np.NaN).fillna(method=\"ffill\")\n",
    "    \n",
    "    data = data.dropna().drop(0, axis = 1).reindex(\n",
    "    columns=['State', 'RegionName']).reset_index(drop = True)\n",
    "    return data\n"
   ]
  },
  {
   "cell_type": "code",
   "execution_count": 23,
   "metadata": {
    "collapsed": true
   },
   "outputs": [],
   "source": [
    "def import_data():\n",
    "    gdp_data = pd.read_excel(\"gdplev.xls\", header= None,  skiprows= 8 )\n",
    "    \n",
    "    gdp_data = gdp_data.loc[: , [4,6]]\n",
    "    gdp_data.columns = ['Time', 'GDP']\n",
    "    gdp_data = gdp_data.set_index('Time')\n",
    "    gdp_data = gdp_data.loc['2000q1': ]\n",
    "    gdp_data['GDP_Change'] = gdp_data.diff()\n",
    "    return gdp_data"
   ]
  },
  {
   "cell_type": "code",
   "execution_count": 24,
   "metadata": {
    "umich_part_id": "022",
    "umich_partlist_id": "004"
   },
   "outputs": [
    {
     "data": {
      "text/plain": [
       "'2008q3'"
      ]
     },
     "execution_count": 24,
     "metadata": {},
     "output_type": "execute_result"
    }
   ],
   "source": [
    "def get_recession_start():\n",
    "    '''Returns the year and quarter of the recession start time as a \n",
    "    string value in a format such as 2005q3'''\n",
    "    \n",
    "    gdp_data = import_data()\n",
    "    gdp_data['RecessionStart'] = (gdp_data['GDP_Change'] < 0) & (gdp_data['GDP_Change'].shift(-1) < 0)\n",
    "\n",
    "    gdp_data = gdp_data[gdp_data['RecessionStart'] == True]\n",
    "    return gdp_data.index.values[0]\n",
    "get_recession_start()"
   ]
  },
  {
   "cell_type": "code",
   "execution_count": 25,
   "metadata": {
    "umich_part_id": "023",
    "umich_partlist_id": "004"
   },
   "outputs": [
    {
     "data": {
      "text/plain": [
       "'2009q4'"
      ]
     },
     "execution_count": 25,
     "metadata": {},
     "output_type": "execute_result"
    }
   ],
   "source": [
    "def get_recession_end():\n",
    "    '''Returns the year and quarter of the recession end time as a \n",
    "    string value in a format such as 2005q3'''\n",
    "    \n",
    "    gdp_data = import_data()\n",
    "    recession_start = get_recession_start()\n",
    "    \n",
    "    gdp_data = gdp_data[gdp_data.index > recession_start]\n",
    "    gdp_data['Recessionend'] = (gdp_data['GDP_Change'] > 0) & (gdp_data['GDP_Change'].shift(-1) > 0)\n",
    "    return gdp_data[gdp_data['Recessionend'] == True].index[1]\n",
    "get_recession_end()"
   ]
  },
  {
   "cell_type": "code",
   "execution_count": 26,
   "metadata": {
    "umich_part_id": "024",
    "umich_partlist_id": "004"
   },
   "outputs": [
    {
     "data": {
      "text/plain": [
       "'2009q2'"
      ]
     },
     "execution_count": 26,
     "metadata": {},
     "output_type": "execute_result"
    }
   ],
   "source": [
    "def get_recession_bottom():\n",
    "    '''Returns the year and quarter of the recession bottom time as a \n",
    "    string value in a format such as 2005q3'''\n",
    "    \n",
    "    gdp_data = import_data()\n",
    "    start = get_recession_start()\n",
    "    end = get_recession_end()\n",
    "    gdp_data = gdp_data[(gdp_data.index > start) & (gdp_data.index < end)]\n",
    "    return np.argmin(gdp_data['GDP'])\n",
    "    #return gdp_data\n",
    "get_recession_bottom()"
   ]
  },
  {
   "cell_type": "code",
   "execution_count": 27,
   "metadata": {
    "collapsed": true,
    "umich_part_id": "025",
    "umich_partlist_id": "004"
   },
   "outputs": [],
   "source": [
    "def convert_housing_data_to_quarters():\n",
    "    '''Converts the housing data to quarters and returns it as mean \n",
    "    values in a dataframe. This dataframe should be a dataframe with\n",
    "    columns for 2000q1 through 2016q3, and should have a multi-index\n",
    "    in the shape of [\"State\",\"RegionName\"].\n",
    "    \n",
    "    Note: Quarters are defined in the assignment description, they are\n",
    "    not arbitrary three month periods.\n",
    "    \n",
    "    The resulting dataframe should have 67 columns, and 10,730 rows.\n",
    "    '''\n",
    "    housing = pd.read_csv('City_Zhvi_AllHomes.csv')\n",
    "    \n",
    "    \"\"\"abb = [key for key in states]\n",
    "    state = [states[key] for key in states]\n",
    "    df = pd.DataFrame({'key': abb, 'State':state})\n",
    "    \n",
    "    housing = pd.merge( housing,df, how = \"inner\", left_on= 'State', right_on='key' )\n",
    "    housing.rename(columns = {'State_y':'State'}, inplace = True)\"\"\"\n",
    "    \n",
    "    housing.replace({'State':states},inplace=True)\n",
    "    housing = housing.set_index(['State', 'RegionName'])\n",
    "    housing = housing.loc[: , '2000-01' : '2016-08']\n",
    "    names = pd.Series(list(housing.columns))\n",
    "    \n",
    "    housing = housing.rename(columns=lambda x: pd.to_datetime(x))\n",
    "    housing = housing.resample('Q',axis=1).mean()\n",
    "    return housing.rename(columns=lambda x: str(x.to_period('Q')).lower())\n"
   ]
  },
  {
   "cell_type": "code",
   "execution_count": 31,
   "metadata": {
    "umich_part_id": "026",
    "umich_partlist_id": "004"
   },
   "outputs": [
    {
     "data": {
      "text/plain": [
       "(True, 0.0027240637047531249, 'university town')"
      ]
     },
     "execution_count": 31,
     "metadata": {},
     "output_type": "execute_result"
    }
   ],
   "source": [
    "def run_ttest():\n",
    "    '''First creates new data showing the decline or growth of housing prices\n",
    "    between the recession start and the recession bottom. Then runs a ttest\n",
    "    comparing the university town values to the non-university towns values, \n",
    "    return whether the alternative hypothesis (that the two groups are the same)\n",
    "    is true or not as well as the p-value of the confidence. \n",
    "    \n",
    "    Return the tuple (different, p, better) where different=True if the t-test is\n",
    "    True at a p<0.01 (we reject the null hypothesis), or different=False if \n",
    "    otherwise (we cannot reject the null hypothesis). The variable p should\n",
    "    be equal to the exact p value returned from scipy.stats.ttest_ind(). The\n",
    "    value for better should be either \"university town\" or \"non-university town\"\n",
    "    depending on which has a lower mean price ratio (which is equivilent to a\n",
    "    reduced market loss).'''\n",
    "    \n",
    "    towns = get_list_of_university_towns()\n",
    "    house_price = convert_housing_data_to_quarters()\n",
    "    rec_st = get_recession_start()\n",
    "    rec_end = get_recession_end()\n",
    "    rec_btm = get_recession_bottom()\n",
    "    \n",
    "    # adjust for duplicates\n",
    "    house_price.drop_duplicates(keep=False,inplace=True)\n",
    "    towns.drop_duplicates(keep=False,inplace=True)\n",
    "    \n",
    "    # calculate house price ratio\n",
    "    house_price['Ratio'] = house_price['2008q2'].div(house_price['2009q2']) \n",
    "    \n",
    "    # set index for uni towns to match house_price df\n",
    "    towns = towns.set_index(['State', 'RegionName'])\n",
    "    \n",
    "    # find uni_towns\n",
    "    uni_towns_ratio = house_price.loc[list(towns.index)]['Ratio']\n",
    "    \n",
    "    # find non-uni-towns\n",
    "    ratio_diff = set(house_price.index) - set(uni_towns_ratio.index)\n",
    "    non_uni_towns_ratio = house_price.loc[list(ratio_diff),:]['Ratio'] \n",
    "    \n",
    "    t_stat, p_value = tuple(ttest_ind(uni_towns_ratio, non_uni_towns_ratio, nan_policy='omit'))\n",
    "\n",
    "    result = t_stat < 0\n",
    "\n",
    "    different = p_value < 0.01\n",
    "\n",
    "    better = [\"non-university town\", \"university town\"]\n",
    "\n",
    "    return (different, p_value, better[result])\n",
    "\n",
    "run_ttest()"
   ]
  }
 ],
 "metadata": {
  "coursera": {
   "course_slug": "python-data-analysis",
   "graded_item_id": "Il9Fx",
   "launcher_item_id": "TeDW0",
   "part_id": "WGlun"
  },
  "kernelspec": {
   "display_name": "Python 3",
   "language": "python",
   "name": "python3"
  },
  "language_info": {
   "codemirror_mode": {
    "name": "ipython",
    "version": 3
   },
   "file_extension": ".py",
   "mimetype": "text/x-python",
   "name": "python",
   "nbconvert_exporter": "python",
   "pygments_lexer": "ipython3",
   "version": "3.6.2"
  },
  "umich": {
   "id": "Assignment 4",
   "version": "1.1"
  }
 },
 "nbformat": 4,
 "nbformat_minor": 1
}
